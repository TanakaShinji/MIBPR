{
 "cells": [
  {
   "cell_type": "markdown",
   "metadata": {},
   "source": [
    "# MIBPR Demo\n",
    "このnotebookには、コールドスタートの問題が発生しやすいデータセットのパフォーマンスをどのように改善するかを示す。 下記の論文を参考に実装する．\n",
    "\n",
    "BPR: https://arxiv.org/ftp/arxiv/papers/1205/1205.2618.pdf"
   ]
  },
  {
   "cell_type": "code",
   "execution_count": null,
   "metadata": {},
   "outputs": [],
   "source": [
    "from mibpr import *\n",
    "from vectorize_documents import *"
   ]
  },
  {
   "cell_type": "code",
   "execution_count": null,
   "metadata": {},
   "outputs": [],
   "source": [
    "from scipy.sparse import csr_matrix, coo_matrix, lil_matrix, csc_matrix, load_npz, save_npz\n",
    "import numpy as np\n",
    "\n",
    "train_name = 'maindata_256996/all_train256996.npz'\n",
    "test_name = 'maindata_256996/all_test256996.npz'\n",
    "feature_name = 'maindata_256996/all_features_seikika256996.npy'\n",
    "price_name = 'maindata_256996/all_price256996.npy'\n",
    "text_name = 'maindata_256996/all_titleword_vector256996.npy'\n",
    "des_name = 'maindata_256996/all_description256996.npy'\n",
    "vocab = 'maindata_256996/tradesy_vocab.npy'\n",
    "train = load_npz(train_name)\n",
    "test = load_npz(test_name)\n",
    "feats = np.load(feature_name, allow_pickle= True, encoding='latin1')\n",
    "price = np.load(price_name, allow_pickle= True, encoding='latin1')\n",
    "text = np.load(text_name, allow_pickle= True, encoding='latin1')\n",
    "des = np.load(des_name, allow_pickle= True, encoding='latin1')"
   ]
  },
  {
   "cell_type": "markdown",
   "metadata": {},
   "source": [
    "## BPRの実装\n",
    "\n",
    "最初に各要因を加えずに購入データのみで実装を行う\n",
    "\n",
    "BPRは、特定のユーザーに対して, アイテムの絶対スコアを予測する行列分解モデルや最近傍法とは対照的に、ユーザーに対して, アイテムの相対ランキングを直接最適化するためのアルゴリズム.\n",
    "これは、行列分解モデルの過学習を防ぐことにも、使用できる． 行列分解モデルは理論的には、ユーザーとアイテムの相互作用行列を完全に再構築できる潜在表現を学習するのに強力だが、BPRを使用すると、ユーザーのアイテムの相対的なランキングを直接最適化できるため、アイテムとユーザーのペアごとに絶対値を再構築する必要がなくなります。\n",
    "\n",
    "しかし， この場合のテストデータには相互作用のない項目（新商品やユーザの情報が少ない）が多数あるため、コールドスタート問題が起こり、テストデータでのパフォーマンスが低いこと予想される．"
   ]
  },
  {
   "cell_type": "code",
   "execution_count": null,
   "metadata": {},
   "outputs": [],
   "source": [
    "bpr = MIBPR()\n",
    "bpr.fit(train, test, epochs=80, lr=.1, verbose=0)\n",
    "print(\"Train AUC: {}\".format(bpr.auc_score(train)))\n",
    "print(\"Test AUC: {}\".format(bpr.auc_score(test)))\n",
    "\n",
    "#実装した場合，　トレーニングデータでは高くなるが，　テストデータはAUCの値が低いことがわかる．"
   ]
  },
  {
   "cell_type": "markdown",
   "metadata": {},
   "source": [
    "## MIBPRの実装\n",
    "コールドスタートの問題を軽減するために、アイテムのコンテンツベースの機能を利用する．　この場合、視覚的情報とタイトル名の情報，　金額の情報，　文章，つまりアイテムの説明文の情報を利用する．　\n",
    "\n",
    "MIBPRアルゴリズムは、上記のコンテンツ機能を用いて，　アイテムとユーザーの潜在的なコンテンツスペースを学習する．　BPRを使用した行列分解モデルに上記のパラメーターを導入して，　潜在的なユーザーコンテンツ空間を表す行列と、潜在的なアイテムコンテンツ空間へのコンテンツベクトルのマッピングを学習するための埋め込み行列を分解モデルに加える．　潜在的なユーザーのコンテンツベクトルと潜在的なアイテムのコンテンツベクトルの内積は、ユーザーとアイテムのペアのコンテンツ関連性予測を表す．　この予測は、潜在的なアイテムとユーザーの要因に加えてバイアスからの予測に追加され、ユーザーとアイテムの相互作用とアイテムのコンテンツの両方によって予測を提供できる。"
   ]
  },
  {
   "cell_type": "code",
   "execution_count": null,
   "metadata": {},
   "outputs": [],
   "source": [
    "import time\n",
    "mibpr = MIVBPR()\n",
    "mibpr.fit(train, test, item_content_features=feats, item_money_features=price, item_text_features=text, item_des_features=None, epochs=80, lr=.005)\n",
    "\n",
    "print(\"Train AUC: {}\".format(mivbpr.auc_score(train)))\n",
    "print(\"Test AUC: {}\".format(mivbpr.auc_score(test)))\n",
    "print(time.time())"
   ]
  },
  {
   "cell_type": "markdown",
   "metadata": {},
   "source": [
    "### アイテムコンテンツの視覚化\n",
    "PCAとTSNEを使用してコンテンツベースを視覚化してアイテムがどういう風に表現される示す．"
   ]
  },
  {
   "cell_type": "code",
   "execution_count": null,
   "metadata": {},
   "outputs": [],
   "source": [
    "import plotly\n",
    "import plotly.graph_objs as go\n",
    "from sklearn.manifold import TSNE\n",
    "\n",
    "plotly.offline.init_notebook_mode(connected=True)\n",
    "\n",
    "sample_indices = np.random.choice(len(text), 1000)\n",
    "sample_embeddings = text[sample_indices]\n",
    "tsne = TSNE()\n",
    "tsne_embeddings = tsne.fit_transform(sample_embeddings)"
   ]
  },
  {
   "cell_type": "code",
   "execution_count": null,
   "metadata": {},
   "outputs": [],
   "source": [
    "# 次元圧縮したベクトルを二次元で表示\n",
    "item_text = [', '.join(i['tags']) if i is not None else '' for i in vocab]\n",
    "trace = go.Scatter(\n",
    "    x = tsne_embeddings[:,0],\n",
    "    y = tsne_embeddings[:,1],\n",
    "    mode = 'markers',\n",
    "    texts = item_text\n",
    ")\n",
    "\n",
    "data = [trace]\n",
    "\n",
    "plotly.offline.iplot(data, filename='tsne_embeddings_tradesy')"
   ]
  },
  {
   "cell_type": "code",
   "execution_count": null,
   "metadata": {},
   "outputs": [],
   "source": [
    "from sklearn.decomposition import PCA\n",
    "\n",
    "sample_indices = np.random.choice(len(text), 1000)\n",
    "sample_embeddings = text[sample_indices]\n",
    "pca = PCA(n_components=10)\n",
    "pca_embeddings = pca.fit_transform(sample_embeddings)\n",
    "pca_tsne = TSNE(perplexity=50)\n",
    "pca_tsne_embeddings = tsne.fit_transform(pca_embeddings)\n",
    "\n",
    "# Plot the embeddings in 2D\n",
    "item_text = [', '.join(i['tags']) if i is not None else '' for i in vocab]\n",
    "trace = go.Scatter(\n",
    "    x = pca_tsne_embeddings[:,0],\n",
    "    y = pca_tsne_embeddings[:,1],\n",
    "    mode = 'markers',\n",
    "    texts = item_text\n",
    ")\n",
    "\n",
    "data = [trace]\n",
    "\n",
    "plotly.offline.iplot(data, filename='pca_tsne_embeddings_tradesy')"
   ]
  },
  {
   "cell_type": "markdown",
   "metadata": {},
   "source": [
    "### ユーザに提案されるアイテムを確認\n",
    "いくつかのアイテムを見て、それらの最も近い隣接アイテムが潜在空間と潜在コンテンツ空間にあるかを見て、MIBPRモデルがアイテムの合理的な表現を持っているかどうかを理解する。"
   ]
  },
  {
   "cell_type": "code",
   "execution_count": null,
   "metadata": {},
   "outputs": [],
   "source": [
    "import scipy as sp\n",
    "\n",
    "def nearest_neighbors(model, vocab, item_id, n=10):\n",
    "    if items[item_id] is not None:\n",
    "        tags = ', '.join(vocab[item_id]['tags'])\n",
    "    else:\n",
    "        tags = ''\n",
    "    item_latent = model.latent_items[item_id]\n",
    "    distances = [(item_id, tags, 0)]\n",
    "    for i in range(len(model.latent_items)):\n",
    "        if i == item_id:\n",
    "            continue\n",
    "        if vocab[i] is not None:\n",
    "            tags = ', '.join(vocab[i]['tags'])\n",
    "        else:\n",
    "            tags = ''\n",
    "        dist = sp.spatial.distance.cosine(item_latent, model.latent_items[i])\n",
    "        distances.append((i, tags, dist))\n",
    "    return sorted(distances, key=lambda x: x[2])[:n]\n",
    "                         \n",
    "def nearest_neighbors_content(model, vocab, item_id, n=10):\n",
    "    if items[item_id] is not None:\n",
    "        tags = ', '.join(vocab[item_id]['tags'])\n",
    "    else:\n",
    "        tags = ''\n",
    "    item_content_latent = model.text_embedding_matrix @ model.item_text_features[item_id]\n",
    "    distances = [(item_id, tags, 0)]\n",
    "    for i in range(len(model.latent_items)):\n",
    "        if i == item_id:\n",
    "            continue\n",
    "        if items[i] is not None:\n",
    "            tags = ', '.join(items[i]['tags'])\n",
    "        else:\n",
    "            tags = ''\n",
    "        other_item = model.text_embedding_matrix @ model.item_text_features[i]\n",
    "        dist = sp.spatial.distance.cosine(item_text_latent, other_item)\n",
    "        distances.append((i, tags, dist))\n",
    "    return sorted(distances, key=lambda x: x[2])[:n]\n",
    "\n",
    "print(\"By latent representations:\")\n",
    "nearest = nearest_neighbors(mibpr, items, 15224)\n",
    "for neighbor in nearest:\n",
    "    print(neighbor)\n",
    "print()\n",
    "print(\"By latent content representations:\")\n",
    "nearest_by_content = nearest_neighbors_content(mibpr, items, 15224)\n",
    "for neighbor in nearest_by_content:\n",
    "    print(neighbor)\n",
    "print()\n"
   ]
  }
 ],
 "metadata": {
  "kernelspec": {
   "display_name": "Python 3",
   "language": "python",
   "name": "python3"
  },
  "language_info": {
   "codemirror_mode": {
    "name": "ipython",
    "version": 3
   },
   "file_extension": ".py",
   "mimetype": "text/x-python",
   "name": "python",
   "nbconvert_exporter": "python",
   "pygments_lexer": "ipython3",
   "version": "3.7.6"
  }
 },
 "nbformat": 4,
 "nbformat_minor": 4
}
